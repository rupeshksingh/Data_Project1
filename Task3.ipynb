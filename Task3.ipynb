{
 "cells": [
  {
   "cell_type": "code",
   "execution_count": 1,
   "id": "ba8f0465-3c23-4037-8b4e-54bcd25afe74",
   "metadata": {},
   "outputs": [],
   "source": [
    "import pandas as pd"
   ]
  },
  {
   "cell_type": "code",
   "execution_count": 2,
   "id": "b2bc3cc8-058a-4063-8e40-7f835673b45d",
   "metadata": {},
   "outputs": [],
   "source": [
    "raw_data = pd.read_csv('rawdata.xlsx - inputsheet.csv')"
   ]
  },
  {
   "cell_type": "code",
   "execution_count": 3,
   "id": "8e07dd15-9aa8-4117-9685-040e28d15ea6",
   "metadata": {},
   "outputs": [
    {
     "data": {
      "text/html": [
       "<div>\n",
       "<style scoped>\n",
       "    .dataframe tbody tr th:only-of-type {\n",
       "        vertical-align: middle;\n",
       "    }\n",
       "\n",
       "    .dataframe tbody tr th {\n",
       "        vertical-align: top;\n",
       "    }\n",
       "\n",
       "    .dataframe thead th {\n",
       "        text-align: right;\n",
       "    }\n",
       "</style>\n",
       "<table border=\"1\" class=\"dataframe\">\n",
       "  <thead>\n",
       "    <tr style=\"text-align: right;\">\n",
       "      <th></th>\n",
       "      <th>date</th>\n",
       "      <th>time</th>\n",
       "      <th>sensor</th>\n",
       "      <th>location</th>\n",
       "      <th>number</th>\n",
       "      <th>activity</th>\n",
       "      <th>position</th>\n",
       "      <th>location.1</th>\n",
       "    </tr>\n",
       "  </thead>\n",
       "  <tbody>\n",
       "    <tr>\n",
       "      <th>0</th>\n",
       "      <td>1/16/2024</td>\n",
       "      <td>10:10:30 AM</td>\n",
       "      <td>0.0</td>\n",
       "      <td>A1</td>\n",
       "      <td>1</td>\n",
       "      <td>placed</td>\n",
       "      <td>inside</td>\n",
       "      <td>A1</td>\n",
       "    </tr>\n",
       "    <tr>\n",
       "      <th>1</th>\n",
       "      <td>1/16/2024</td>\n",
       "      <td>10:12:30 AM</td>\n",
       "      <td>1.0</td>\n",
       "      <td>A2</td>\n",
       "      <td>1</td>\n",
       "      <td>picked</td>\n",
       "      <td>inside</td>\n",
       "      <td>A2</td>\n",
       "    </tr>\n",
       "    <tr>\n",
       "      <th>2</th>\n",
       "      <td>1/16/2024</td>\n",
       "      <td>10:28:30 AM</td>\n",
       "      <td>1.0</td>\n",
       "      <td>A3</td>\n",
       "      <td>1</td>\n",
       "      <td>picked</td>\n",
       "      <td>Inside</td>\n",
       "      <td>A3</td>\n",
       "    </tr>\n",
       "    <tr>\n",
       "      <th>3</th>\n",
       "      <td>1/16/2024</td>\n",
       "      <td>10:38:20 AM</td>\n",
       "      <td>0.0</td>\n",
       "      <td>A4</td>\n",
       "      <td>1</td>\n",
       "      <td>placed</td>\n",
       "      <td>Inside</td>\n",
       "      <td>A4</td>\n",
       "    </tr>\n",
       "    <tr>\n",
       "      <th>4</th>\n",
       "      <td>1/16/2024</td>\n",
       "      <td>10:45:20 AM</td>\n",
       "      <td>1.0</td>\n",
       "      <td>A5</td>\n",
       "      <td>1</td>\n",
       "      <td>placed</td>\n",
       "      <td>inside</td>\n",
       "      <td>A5</td>\n",
       "    </tr>\n",
       "  </tbody>\n",
       "</table>\n",
       "</div>"
      ],
      "text/plain": [
       "        date         time  sensor location  number activity position  \\\n",
       "0  1/16/2024  10:10:30 AM     0.0       A1       1   placed   inside   \n",
       "1  1/16/2024  10:12:30 AM     1.0       A2       1   picked   inside   \n",
       "2  1/16/2024  10:28:30 AM     1.0       A3       1   picked   Inside   \n",
       "3  1/16/2024  10:38:20 AM     0.0       A4       1   placed   Inside   \n",
       "4  1/16/2024  10:45:20 AM     1.0       A5       1   placed   inside   \n",
       "\n",
       "  location.1  \n",
       "0         A1  \n",
       "1         A2  \n",
       "2         A3  \n",
       "3         A4  \n",
       "4         A5  "
      ]
     },
     "execution_count": 3,
     "metadata": {},
     "output_type": "execute_result"
    }
   ],
   "source": [
    "raw_data.head()"
   ]
  },
  {
   "cell_type": "code",
   "execution_count": 4,
   "id": "03910c79-ace7-41bb-bc66-2556e98a97e3",
   "metadata": {},
   "outputs": [],
   "source": [
    "raw_data['datetime'] = raw_data['date'] + ' ' + raw_data['time'].str[:-3]\n",
    "raw_data['datetime'] = pd.to_datetime(raw_data['datetime'], format='%m/%d/%Y %H:%M:%S')"
   ]
  },
  {
   "cell_type": "code",
   "execution_count": 5,
   "id": "71243a60-d3a9-4688-9b6c-f5f22c5b5df6",
   "metadata": {},
   "outputs": [],
   "source": [
    "raw_data.sort_values(by=['location', 'datetime'], inplace=True)\n",
    "raw_data['duration'] = raw_data.groupby('location')['datetime'].diff().fillna(pd.Timedelta(seconds=0)).dt.total_seconds()"
   ]
  },
  {
   "cell_type": "code",
   "execution_count": 6,
   "id": "c256cd4e-201e-4716-86a1-d9bd2e582ed6",
   "metadata": {},
   "outputs": [],
   "source": [
    "inside_duration = raw_data[raw_data['position'] == 'inside'].groupby('date')['duration'].sum().reset_index(name='inside_duration')\n",
    "outside_duration = raw_data[raw_data['position'] == 'outside'].groupby('date')['duration'].sum().reset_index(name='outside_duration')"
   ]
  },
  {
   "cell_type": "code",
   "execution_count": 7,
   "id": "f25379d2-71a0-49d5-8070-a20d28959123",
   "metadata": {},
   "outputs": [],
   "source": [
    "pick_activities = raw_data[raw_data['activity'] == 'picked'].groupby('date').size().reset_index(name='pick_activities')\n",
    "place_activities = raw_data[raw_data['activity'] == 'placed'].groupby('date').size().reset_index(name='place_activities')"
   ]
  },
  {
   "cell_type": "code",
   "execution_count": 8,
   "id": "b146092d-fb52-4966-9a84-07f3af67a296",
   "metadata": {},
   "outputs": [],
   "source": [
    "result = pd.merge(inside_duration, outside_duration, on='date', how='outer')\n",
    "result = pd.merge(result, pick_activities, on='date', how='outer')\n",
    "result = pd.merge(result, place_activities, on='date', how='outer')"
   ]
  },
  {
   "cell_type": "code",
   "execution_count": 9,
   "id": "e052f47e-5ca5-4060-b2a3-55ebeaeb6c74",
   "metadata": {},
   "outputs": [],
   "source": [
    "result.fillna(0, inplace=True)"
   ]
  },
  {
   "cell_type": "code",
   "execution_count": 10,
   "id": "c6316c87-34e7-45f1-927a-1faedf88f9a4",
   "metadata": {},
   "outputs": [],
   "source": [
    "result.to_csv('output.csv', index=False)"
   ]
  }
 ],
 "metadata": {
  "kernelspec": {
   "display_name": "Python 3 (ipykernel)",
   "language": "python",
   "name": "python3"
  },
  "language_info": {
   "codemirror_mode": {
    "name": "ipython",
    "version": 3
   },
   "file_extension": ".py",
   "mimetype": "text/x-python",
   "name": "python",
   "nbconvert_exporter": "python",
   "pygments_lexer": "ipython3",
   "version": "3.11.3"
  }
 },
 "nbformat": 4,
 "nbformat_minor": 5
}
